{
 "cells": [
  {
   "cell_type": "markdown",
   "metadata": {},
   "source": [
    "# Day 9: Smoke Basin\n",
    "\n",
    "These caves seem to be [lava tubes](https://en.wikipedia.org/wiki/Lava_tube). Parts are even still volcanically active; small hydrothermal vents release smoke into the caves that slowly settles like rain.\n",
    "\n",
    "If you can model how the smoke flows through the caves, you might be able to avoid it and be that much safer. The submarine generates a heightmap of the floor of the nearby caves for you (your puzzle input).\n",
    "\n",
    "Smoke flows to the lowest point of the area it's in. For example, consider the following heightmap:\n",
    "\n",
    "```\n",
    "2*1*9994321*0*\n",
    "3987894921\n",
    "98*5*6789892\n",
    "8767896789\n",
    "989996*5*678\n",
    "```\n",
    "\n",
    "Each number corresponds to the height of a particular location, where `9` is the highest and `0` is the lowest a location can be.\n",
    "\n",
    "Your first goal is to find the **low points** - the locations that are lower than any of its adjacent locations. Most locations have four adjacent locations (up, down, left, and right); locations on the edge or corner of the map have three or two adjacent locations, respectively. (Diagonal locations do not count as adjacent.)\n",
    "\n",
    "In the above example, there are **four** low points, all highlighted: two are in the first row (a `1` and a `0`), one is in the third row (a `5`), and one is in the bottom row (also a `5`). All other locations on the heightmap have some lower adjacent location, and so are not low points.\n",
    "\n",
    "The **risk level** of a low point is **1 plus its height**. In the above example, the risk levels of the low points are `2`, `1`, `6`, and `6`. The sum of the risk levels of all low points in the heightmap is therefore **`15`**.\n",
    "\n",
    "## Part 0\n",
    "\n",
    "> *I wanted to plot the height map from the input file just for fun. So I did.*"
   ]
  },
  {
   "cell_type": "code",
   "execution_count": 8,
   "metadata": {},
   "outputs": [
    {
     "data": {
      "text/html": [
       "\n",
       "        <iframe\n",
       "            width=\"700px\"\n",
       "            height=\"700px\"\n",
       "            src=\"https://plotly.com/~martin.immel/58.embed\"\n",
       "            frameborder=\"0\"\n",
       "            allowfullscreen\n",
       "            \n",
       "        ></iframe>\n",
       "        "
      ],
      "text/plain": [
       "<IPython.lib.display.IFrame at 0x2228b0a6a40>"
      ]
     },
     "execution_count": 8,
     "metadata": {},
     "output_type": "execute_result"
    }
   ],
   "source": [
    "import chart_studio.plotly as plt\n",
    "import plotly.graph_objects as go\n",
    "\n",
    "\n",
    "with open('./input09.txt') as input_file:\n",
    "    height_map = [[int(height) for height in line.strip()] for line in input_file]\n",
    "    input_file.close()\n",
    "\n",
    "x = list(range(len(height_map[0])))\n",
    "y = list(range(len(height_map)))\n",
    "\n",
    "fig = go.Figure(data=[go.Surface(z=height_map, x=x, y=y)])\n",
    "fig.update_layout(title='Cave Height Map', scene = dict(xaxis_title=\"X\", yaxis_title=\"Y\", zaxis_title=\"Height\"), autosize=False, width=700, height=700, margin=dict(l=65, r=50, b=65, t=90))\n",
    "# fig.show()\n",
    "plt.iplot(fig)"
   ]
  },
  {
   "cell_type": "markdown",
   "metadata": {},
   "source": [
    "## Part 1\n",
    "\n",
    "Find all of the low points on your heightmap. **What is the sum of the risk levels of all low points on your heightmap?**"
   ]
  },
  {
   "cell_type": "code",
   "execution_count": 2,
   "metadata": {},
   "outputs": [
    {
     "name": "stdout",
     "output_type": "stream",
     "text": [
      "236 Low Points found...\n",
      "Total Risk Level: 575\n"
     ]
    }
   ],
   "source": [
    "with open('./input09.txt') as input_file:\n",
    "    height_map = [[int(height) for height in line.strip()] for line in input_file]\n",
    "    input_file.close()\n",
    "\n",
    "risk_levels = []\n",
    "for idx_y, row in enumerate(height_map):\n",
    "    for idx_x, height in enumerate(row):\n",
    "        if (idx_x > 0 and height >= row[idx_x - 1]):\n",
    "            continue\n",
    "        if (idx_x < len(row) - 1 and height >= row[idx_x + 1]):\n",
    "            continue\n",
    "        if (idx_y > 0 and height >= height_map[idx_y - 1][idx_x]):\n",
    "            continue\n",
    "        if (idx_y < len(height_map) - 1 and height >= height_map[idx_y + 1][idx_x]):\n",
    "            continue\n",
    "\n",
    "        risk_levels.append(height + 1)\n",
    "\n",
    "print(f'{len(risk_levels)} Low Points found...\\nTotal Risk Level: {sum(risk_levels)}')"
   ]
  },
  {
   "cell_type": "markdown",
   "metadata": {},
   "source": [
    "## Part 2\n",
    "\n",
    "Next, you need to find the largest basins so you know what areas are most important to avoid.\n",
    "\n",
    "A **basin** is all locations that eventually flow downward to a single low point. Therefore, every low point has a basin, although some basins are very small. Locations of height 9 do not count as being in any basin, and all other locations will always be part of exactly one basin.\n",
    "\n",
    "The **size** of a basin is the number of locations within the basin, including the low point. The example above has four basins.\n",
    "\n",
    "The top-left basin, size `3`:\n",
    "\n",
    "```\n",
    "➋➊➈➈➈➃➂➁➀🄋\n",
    "➌➈➇➆➇➈➃➈➁➀\n",
    "➈➇➄➅➆➇➈➇➈➁\n",
    "➇➆➅➆➇➈➅➆➇➈\n",
    "➈➇➈➈➈➅➄➅➆➇\n",
    "```\n",
    "\n",
    "The top-right basin, size `9`:\n",
    "\n",
    "```\n",
    "➁➀➈➈➈➍➌➋➊🄌\n",
    "➂➈➇➆➇➈➍➈➋➊\n",
    "➈➇➄➅➆➇➈➇➈➋\n",
    "➇➆➅➆➇➈➅➆➇➈\n",
    "➈➇➈➈➈➅➄➅➆➇\n",
    "```\n",
    "\n",
    "The middle basin, size `14`:\n",
    "\n",
    "```\n",
    "➁➀➈➈➈➃➂➁➀🄋\n",
    "➂➈➇➆➇➈➃➈➁➀\n",
    "➈➇➄➅➆➇➈➇➈➁\n",
    "➇➆➅➆➇➈➅➆➇➈\n",
    "➈➇➈➈➈➅➄➅➆➇\n",
    "```\n",
    "\n",
    "The bottom-right basin, size `9`:\n",
    "\n",
    "```\n",
    "➁➀➈➈➈➃➂➁➀🄋\n",
    "➂➈➇➆➇➈➃➈➁➀\n",
    "➈➇➄➅➆➇➈➇➈➁\n",
    "➇➆➅➆➇➈➅➆➇➈\n",
    "➈➇➈➈➈➅➄➅➆➇\n",
    "```\n",
    "\n",
    "Find the three largest basins and multiply their sizes together. In the above example, this is `9 * 14 * 9 = `**`1134`**.\n",
    "\n",
    "**What do you get if you multiply together the sizes of the three largest basins?**"
   ]
  },
  {
   "cell_type": "code",
   "execution_count": null,
   "metadata": {},
   "outputs": [],
   "source": []
  }
 ],
 "metadata": {
  "interpreter": {
   "hash": "b84cde41d982db337556a834f14a7cbfe231619daed40e975ab17048ce379b72"
  },
  "kernelspec": {
   "display_name": "Python 3.6.6 64-bit",
   "language": "python",
   "name": "python3"
  },
  "language_info": {
   "codemirror_mode": {
    "name": "ipython",
    "version": 3
   },
   "file_extension": ".py",
   "mimetype": "text/x-python",
   "name": "python",
   "nbconvert_exporter": "python",
   "pygments_lexer": "ipython3",
   "version": "3.10.1"
  },
  "orig_nbformat": 4
 },
 "nbformat": 4,
 "nbformat_minor": 2
}
