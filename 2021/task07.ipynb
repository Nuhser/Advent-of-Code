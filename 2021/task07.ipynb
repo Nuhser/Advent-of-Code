{
 "cells": [
  {
   "cell_type": "markdown",
   "metadata": {},
   "source": [
    "# Day 7: The Treachery of Whales\n",
    "\n",
    "A giant [whale](https://en.wikipedia.org/wiki/Sperm_whale) has decided your submarine is its next meal, and it's much faster than you are. There's nowhere to run!\n",
    "\n",
    "Suddenly, a swarm of crabs (each in its own tiny submarine - it's too deep for them otherwise) zooms in to rescue you! They seem to be preparing to blast a hole in the ocean floor; sensors indicate a **massive underground cave system** just beyond where they're aiming!\n",
    "\n",
    "The crab submarines all need to be aligned before they'll have enough power to blast a large enough hole for your submarine to get through. However, it doesn't look like they'll be aligned before the whale catches you! Maybe you can help?\n",
    "\n",
    "There's one major catch - crab submarines can only move horizontally.\n",
    "\n",
    "You quickly make a list of **the horizontal position of each crab** (your puzzle input). Crab submarines have limited fuel, so you need to find a way to make all of their horizontal positions match while requiring them to spend as little fuel as possible.\n",
    "\n",
    "For example, consider the following horizontal positions:\n",
    "\n",
    "`16,1,2,0,4,2,7,1,2,14`\n",
    "\n",
    "This means there's a crab with horizontal position `16`, a crab with horizontal position `1`, and so on.\n",
    "\n",
    "Each change of 1 step in horizontal position of a single crab costs 1 fuel. You could choose any horizontal position to align them all on, but the one that costs the least fuel is horizontal position `2`:\n",
    "\n",
    "- Move from `16` to `2`: `14` fuel\n",
    "- Move from `1` to `2`: `1` fuel\n",
    "- Move from `2` to `2`: `0` fuel\n",
    "- Move from `0` to `2`: `2` fuel\n",
    "- Move from `4` to `2`: `2` fuel\n",
    "- Move from `2` to `2`: `0` fuel\n",
    "- Move from `7` to `2`: `5` fuel\n",
    "- Move from `1` to `2`: `1` fuel\n",
    "- Move from `2` to `2`: `0` fuel\n",
    "- Move from `14` to `2`: `12` fuel\n",
    "\n",
    "This costs a total of **`37`** fuel. This is the cheapest possible outcome; more expensive outcomes include aligning at position `1` (`41` fuel), position `3` (`39` fuel), or position `10` (`71` fuel).\n",
    "\n",
    "## Part 1\n",
    "\n",
    "Determine the horizontal position that the crabs can align to using the least fuel possible. **How much fuel must they spend to align to that position?**"
   ]
  },
  {
   "cell_type": "code",
   "execution_count": 12,
   "metadata": {},
   "outputs": [
    {
     "name": "stdout",
     "output_type": "stream",
     "text": [
      "Best Position: 341 (w/ 3 crabs starting there)\n",
      "Required Fuel: 344605\n"
     ]
    }
   ],
   "source": [
    "if __name__ == '__main__':\n",
    "    # get input\n",
    "    crabs = dict()\n",
    "    with open('./input07.txt') as input_file:\n",
    "        for position in [int(p) for p in input_file.readline().strip().split(',')]:\n",
    "            if position in crabs:\n",
    "                crabs[position] += 1\n",
    "            else:\n",
    "                crabs[position] = 1\n",
    "\n",
    "        input_file.close()\n",
    "\n",
    "    # determine range for position searching\n",
    "    max_position = max(crabs.keys())\n",
    "    min_position = min(crabs.keys())\n",
    "\n",
    "    # find least required ammount of fuel\n",
    "    least_fuel = None\n",
    "    for curr_position in range(min_position, max_position + 1):\n",
    "        fuel = 0\n",
    "        for position in crabs:\n",
    "            fuel += abs(curr_position - position) * crabs[position]\n",
    "\n",
    "        if (least_fuel == None) or (fuel < least_fuel):\n",
    "            least_fuel = fuel\n",
    "            best_position = curr_position\n",
    "\n",
    "    print(f'Best Position: {best_position} (w/ {crabs[best_position] if best_position in crabs else 0} crabs starting there)\\nRequired Fuel: {least_fuel}')"
   ]
  },
  {
   "cell_type": "markdown",
   "metadata": {},
   "source": [
    "## Part 2\n",
    "\n",
    "The crabs don't seem interested in your proposed solution. Perhaps you misunderstand crab engineering?\n",
    "\n",
    "As it turns out, crab submarine engines don't burn fuel at a constant rate. Instead, each change of 1 step in horizontal position costs 1 more unit of fuel than the last: the first step costs `1`, the second step costs `2`, the third step costs `3`, and so on.\n",
    "\n",
    "As each crab moves, moving further becomes more expensive. This changes the best horizontal position to align them all on; in the example above, this becomes `5`:\n",
    "\n",
    "- Move from `16` to `5`: `66` fuel\n",
    "- Move from `1` to `5`: `10` fuel\n",
    "- Move from `2` to `5`: `6` fuel\n",
    "- Move from `0` to `5`: `15` fuel\n",
    "- Move from `4` to `5`: `1` fuel\n",
    "- Move from `2` to `5`: `6` fuel\n",
    "- Move from `7` to `5`: `3` fuel\n",
    "- Move from `1` to `5`: `10` fuel\n",
    "- Move from `2` to `5`: `6` fuel\n",
    "- Move from `14` to `5`: `45` fuel\n",
    "\n",
    "This costs a total of **`168`** fuel. This is the new cheapest possible outcome; the old alignment position (`2`) now costs `206` fuel instead.\n",
    "\n",
    "Determine the horizontal position that the crabs can align to using the least fuel possible so they can make you an escape route! **How much fuel must they spend to align to that position?**"
   ]
  },
  {
   "cell_type": "code",
   "execution_count": 19,
   "metadata": {},
   "outputs": [
    {
     "name": "stdout",
     "output_type": "stream",
     "text": [
      "Best Position: 472 (w/ 0 crabs starting there)\n",
      "Required Fuel: 93699985\n"
     ]
    }
   ],
   "source": [
    "if __name__ == '__main__':\n",
    "    # get input\n",
    "    crabs = dict()\n",
    "    with open('./input07.txt') as input_file:\n",
    "        for position in [int(p) for p in input_file.readline().strip().split(',')]:\n",
    "            if position in crabs:\n",
    "                crabs[position] += 1\n",
    "            else:\n",
    "                crabs[position] = 1\n",
    "\n",
    "        input_file.close()\n",
    "\n",
    "    # determine range for position searching\n",
    "    max_position = max(crabs.keys())\n",
    "    min_position = min(crabs.keys())\n",
    "\n",
    "    # find least required ammount of fuel\n",
    "    least_fuel = None\n",
    "    for curr_position in range(min_position, max_position + 1):\n",
    "        fuel = 0\n",
    "        for position in crabs:\n",
    "            # First very slow idea\n",
    "            # fuel += sum(list(range(1, abs(curr_position - position) + 1))) * crabs[position]\n",
    "\n",
    "            # The smart way without sum\n",
    "            diff = abs(curr_position - position)\n",
    "            fuel += (((diff + 1) * int(diff / 2)) + ((int(diff / 2) + 1) * (diff % 2))) * crabs[position]\n",
    "\n",
    "        if (least_fuel == None) or (fuel < least_fuel):\n",
    "            least_fuel = fuel\n",
    "            best_position = curr_position\n",
    "\n",
    "    print(f'Best Position: {best_position} (w/ {crabs[best_position] if best_position in crabs else 0} crabs starting there)\\nRequired Fuel: {least_fuel}')"
   ]
  }
 ],
 "metadata": {
  "interpreter": {
   "hash": "b84cde41d982db337556a834f14a7cbfe231619daed40e975ab17048ce379b72"
  },
  "kernelspec": {
   "display_name": "Python 3.6.6 64-bit",
   "language": "python",
   "name": "python3"
  },
  "language_info": {
   "codemirror_mode": {
    "name": "ipython",
    "version": 3
   },
   "file_extension": ".py",
   "mimetype": "text/x-python",
   "name": "python",
   "nbconvert_exporter": "python",
   "pygments_lexer": "ipython3",
   "version": "3.6.6"
  },
  "orig_nbformat": 4
 },
 "nbformat": 4,
 "nbformat_minor": 2
}
