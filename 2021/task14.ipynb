{
 "cells": [
  {
   "cell_type": "markdown",
   "metadata": {},
   "source": [
    "# Day 14: Extended Polymerization\n",
    "\n",
    "The incredible pressures at this depth are starting to put a strain on your submarine. The submarine has [polymerization](https://en.wikipedia.org/wiki/Polymerization) equipment that would produce suitable materials to reinforce the submarine, and the nearby volcanically-active caves should even have the necessary input elements in sufficient quantities.\n",
    "\n",
    "The submarine manual contains instructions for finding the optimal polymer formula; specifically, it offers a **polymer template** and a list of **pair insertion** rules (your puzzle input). You just need to work out what polymer would result after repeating the pair insertion process a few times.\n",
    "\n",
    "For example:\n",
    "\n",
    "```\n",
    "NNCB\n",
    "\n",
    "CH -> B\n",
    "HH -> N\n",
    "CB -> H\n",
    "NH -> C\n",
    "HB -> C\n",
    "HC -> B\n",
    "HN -> C\n",
    "NN -> C\n",
    "BH -> H\n",
    "NC -> B\n",
    "NB -> B\n",
    "BN -> B\n",
    "BB -> N\n",
    "BC -> B\n",
    "CC -> N\n",
    "CN -> C\n",
    "```\n",
    "\n",
    "The first line is the **polymer template** - this is the starting point of the process.\n",
    "\n",
    "The following section defines the **pair insertion** rules. A rule like `AB -> C` means that when elements `A` and `B` are immediately adjacent, element `C` should be inserted between them. These insertions all happen simultaneously.\n",
    "\n",
    "So, starting with the polymer template `NNCB`, the first step simultaneously considers all three pairs:\n",
    "\n",
    "- The first pair (`NN`) matches the rule `NN -> C`, so element **`C`** is inserted between the first `N` and the second `N`.\n",
    "- The second pair (`NC`) matches the rule `NC -> B`, so element **`B`** is inserted between the `N` and the `C`.\n",
    "- The third pair (`CB`) matches the rule `CB -> H`, so element **`H`** is inserted between the `C` and the `B`.\n",
    "\n",
    "Note that these pairs overlap: the second element of one pair is the first element of the next pair. Also, because all pairs are considered simultaneously, inserted elements are not considered to be part of a pair until the next step.\n",
    "\n",
    "After the first step of this process, the polymer becomes `N`**`C`**`N`**`B`**`C`**`H`**`B`.\n",
    "\n",
    "Here are the results of a few steps using the above rules:\n",
    "\n",
    "```\n",
    "Template:     NNCB\n",
    "After step 1: NCNBCHB\n",
    "After step 2: NBCCNBBBCBHCB\n",
    "After step 3: NBBBCNCCNBBNBNBBCHBHHBCHB\n",
    "After step 4: NBBNBNBBCCNBCNCCNBBNBBNBBBNBBNBBCBHCBHHNHCBBCBHCB\n",
    "```\n",
    "\n",
    "This polymer grows quickly. After step 5, it has length 97; After step 10, it has length 3073. After step 10, `B` occurs 1749 times, `C` occurs 298 times, `H` occurs 161 times, and `N` occurs 865 times; taking the quantity of the most common element (`B`, 1749) and subtracting the quantity of the least common element (`H`, 161) produces `1749 - 161 = `**`1588`**.\n",
    "\n",
    "## Part 1\n",
    "\n",
    "Apply 10 steps of pair insertion to the polymer template and find the most and least common elements in the result. **What do you get if you take the quantity of the most common element and subtract the quantity of the least common element?**"
   ]
  },
  {
   "cell_type": "code",
   "execution_count": 28,
   "metadata": {},
   "outputs": [
    {
     "name": "stdout",
     "output_type": "stream",
     "text": [
      "Polymer template: OFSVVSFOCBNONHKFHNPK\n",
      "Length after step 1: 39\n",
      "Length after step 2: 77\n",
      "Length after step 3: 153\n",
      "Length after step 4: 305\n",
      "Length after step 5: 609\n",
      "Length after step 6: 1217\n",
      "Length after step 7: 2433\n",
      "Length after step 8: 4865\n",
      "Length after step 9: 9729\n",
      "Length after step 10: 19457\n",
      "Polymer Counts: {'O': 1596, 'H': 1797, 'K': 1001, 'N': 4285, 'S': 1943, 'C': 1539, 'F': 1318, 'P': 2777, 'V': 2050, 'B': 1151}\n",
      "Solution: 4285 - 1001 = 3284\n"
     ]
    }
   ],
   "source": [
    "with open('./input14.txt') as input_file:\n",
    "    polymer_string = input_file.readline().strip()\n",
    "    polymer_mapping = {line.strip().split(' -> ')[0]: line.strip().split(' -> ')[1] for line in input_file.readlines() if not line.isspace()}\n",
    "\n",
    "print(f'Polymer template: {polymer_string}')\n",
    "\n",
    "for step in range(10):\n",
    "    new_polymer_string = polymer_string[0]\n",
    "    for idx in range(len(polymer_string) - 1):\n",
    "        if polymer_string[idx : idx+2] in polymer_mapping:\n",
    "            new_polymer_string += polymer_mapping[polymer_string[idx : idx+2]] + polymer_string[idx + 1]\n",
    "        else:\n",
    "            new_polymer_string += polymer_string[idx + 1]\n",
    "\n",
    "    polymer_string = new_polymer_string\n",
    "\n",
    "    print(f'Length after step {step + 1}: {len(polymer_string)}')\n",
    "\n",
    "polymer_counts = dict()\n",
    "for char in polymer_string:\n",
    "    if char not in polymer_counts:\n",
    "        polymer_counts[char] = polymer_string.count(char)\n",
    "\n",
    "print(f'Polymer counts: {polymer_counts}')\n",
    "\n",
    "max_polymer = max(list(polymer_counts.values()))\n",
    "min_polymer = min(list(polymer_counts.values()))\n",
    "\n",
    "print(f'Solution: {max_polymer} - {min_polymer} = {max_polymer - min_polymer}')"
   ]
  },
  {
   "cell_type": "markdown",
   "metadata": {},
   "source": [
    "## Part 2\n",
    "\n",
    "The resulting polymer isn't nearly strong enough to reinforce the submarine. You'll need to run more steps of the pair insertion process; a total of **40 steps** should do it.\n",
    "\n",
    "In the above example, the most common element is `B` (occurring `2192039569602` times) and the least common element is `H` (occurring `3849876073` times); subtracting these produces **`2188189693529`**.\n",
    "\n",
    "Apply **40** steps of pair insertion to the polymer template and find the most and least common elements in the result. **What do you get if you take the quantity of the most common element and subtract the quantity of the least common element?**"
   ]
  },
  {
   "cell_type": "code",
   "execution_count": 36,
   "metadata": {},
   "outputs": [
    {
     "name": "stdout",
     "output_type": "stream",
     "text": [
      "Polymer template: OFSVVSFOCBNONHKFHNPK\n",
      "Polymer Counts: {'O': 2202794261121, 'F': 1471801718164, 'S': 1915040933128, 'V': 2299932080861, 'C': 1381228953516, 'B': 1083544306272, 'N': 5224941105516, 'H': 1753226545958, 'K': 922265575827, 'P': 2635945447382}\n",
      "Solution: 5224941105516 - 922265575827 = 4302675529689\n"
     ]
    }
   ],
   "source": [
    "with open('./input14.txt') as input_file:\n",
    "    polymer_string = input_file.readline().strip()\n",
    "    polymer_mapping = {line.strip().split(' -> ')[0]: line.strip().split(' -> ')[1] for line in input_file.readlines() if not line.isspace()}\n",
    "\n",
    "print(f'Polymer template: {polymer_string}')\n",
    "\n",
    "polymer_counts = {char: polymer_string.count(char) for char in polymer_string}\n",
    "pair_counts = {polymer_string[idx : idx+2]: polymer_string.count(polymer_string[idx : idx+2]) for idx in range(len(polymer_string) - 1)}\n",
    "\n",
    "for step in range(40):\n",
    "    for pair, count in pair_counts.copy().items():\n",
    "        if pair in polymer_mapping:\n",
    "            insertion_polymer = polymer_mapping[pair]\n",
    "\n",
    "            polymer_counts[insertion_polymer] = polymer_counts[insertion_polymer] + count if insertion_polymer in polymer_counts else count\n",
    "            pair_counts[pair] -= count\n",
    "\n",
    "            new_polymer1 = pair[0] + insertion_polymer\n",
    "            new_polymer2 = insertion_polymer + pair[1]\n",
    "\n",
    "            pair_counts[new_polymer1] = pair_counts[new_polymer1] + count if new_polymer1 in pair_counts else count\n",
    "            pair_counts[new_polymer2] = pair_counts[new_polymer2] + count if new_polymer2 in pair_counts else count\n",
    "\n",
    "print(f'Final Polymer counts: {polymer_counts}')\n",
    "\n",
    "max_polymer = max(list(polymer_counts.values()))\n",
    "min_polymer = min(list(polymer_counts.values()))\n",
    "\n",
    "print(f'Solution: {max_polymer} - {min_polymer} = {max_polymer - min_polymer}')"
   ]
  }
 ],
 "metadata": {
  "interpreter": {
   "hash": "67f53f2d05cd397b8894baf6091bfa4e924cce47a03a3897a0810c1ed3b377d0"
  },
  "kernelspec": {
   "display_name": "Python 3.10.1 64-bit",
   "language": "python",
   "name": "python3"
  },
  "language_info": {
   "codemirror_mode": {
    "name": "ipython",
    "version": 3
   },
   "file_extension": ".py",
   "mimetype": "text/x-python",
   "name": "python",
   "nbconvert_exporter": "python",
   "pygments_lexer": "ipython3",
   "version": "3.10.1"
  },
  "orig_nbformat": 4
 },
 "nbformat": 4,
 "nbformat_minor": 2
}
