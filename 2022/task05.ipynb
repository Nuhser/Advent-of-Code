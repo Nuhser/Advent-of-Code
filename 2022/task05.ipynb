{
 "cells": [
  {
   "cell_type": "code",
   "execution_count": 10,
   "metadata": {},
   "outputs": [
    {
     "name": "stdout",
     "output_type": "stream",
     "text": [
      "Final top crates: BWNCQRMDB\n"
     ]
    }
   ],
   "source": [
    "import aoc_util\n",
    "\n",
    "start_positions, moves = aoc_util.parse_input_with_blocks(5, block_delimiter=\"\\n\", strip_lines=False)\n",
    "\n",
    "start_positions = [aoc_util.split_string_in_chunks(row, 3, 1) for row in start_positions[: -1]]\n",
    "crates = [[] for _ in range(len(start_positions[0]))]\n",
    "\n",
    "for row in reversed(start_positions):\n",
    "    for idx, crate in enumerate([crate.strip() for crate in row]):\n",
    "        if crate != \"\":\n",
    "            crates[idx].append(crate)\n",
    "\n",
    "moves = [move.split(\" \") for move in moves]\n",
    "moves = [(int(move[1]), int(move[3]), int(move[5])) for move in moves]\n",
    "\n",
    "for move in moves:\n",
    "    for _ in range(move[0]):\n",
    "        crates[move[2]-1].append(crates[move[1]-1].pop())\n",
    "\n",
    "print(f\"Final top crates: {''.join([crate[-1].replace('[', '').replace(']', '') for crate in crates])}\")"
   ]
  },
  {
   "cell_type": "code",
   "execution_count": 13,
   "metadata": {},
   "outputs": [
    {
     "name": "stdout",
     "output_type": "stream",
     "text": [
      "Final top crates: NHWZCBNBF\n"
     ]
    }
   ],
   "source": [
    "crates = [[] for _ in range(len(start_positions[0]))]\n",
    "\n",
    "for row in reversed(start_positions):\n",
    "    for idx, crate in enumerate([crate.strip() for crate in row]):\n",
    "        if crate != \"\":\n",
    "            crates[idx].append(crate)\n",
    "\n",
    "for move in moves:\n",
    "    crates[move[2]-1]+= crates[move[1]-1][-move[0] :]\n",
    "    crates[move[1]-1] = crates[move[1]-1][: -move[0]]\n",
    "\n",
    "print(f\"Final top crates: {''.join([crate[-1].replace('[', '').replace(']', '') for crate in crates])}\")"
   ]
  }
 ],
 "metadata": {
  "kernelspec": {
   "display_name": "Python 3.9.5 64-bit",
   "language": "python",
   "name": "python3"
  },
  "language_info": {
   "codemirror_mode": {
    "name": "ipython",
    "version": 3
   },
   "file_extension": ".py",
   "mimetype": "text/x-python",
   "name": "python",
   "nbconvert_exporter": "python",
   "pygments_lexer": "ipython3",
   "version": "3.9.5"
  },
  "orig_nbformat": 4,
  "vscode": {
   "interpreter": {
    "hash": "3fe23fe75aed3e6e3a59b20dab6b24d2873a9470000d472dfd1091cb7f8711a8"
   }
  }
 },
 "nbformat": 4,
 "nbformat_minor": 2
}
