{
 "cells": [
  {
   "cell_type": "code",
   "execution_count": 2,
   "metadata": {},
   "outputs": [
    {
     "name": "stdout",
     "output_type": "stream",
     "text": [
      "Total number of unnecessary sections: 503\n"
     ]
    }
   ],
   "source": [
    "import aoc_util\n",
    "\n",
    "doubled_sections = 0\n",
    "for section1, section2 in [(set(range(a[0], a[1] + 1)), set(range(b[0], b[1] + 1))) for a, b in aoc_util.parse_input(4, \",\", \"-\", cast_to=int)]:\n",
    "    if section1.issubset(section2) or section2.issubset(section1):\n",
    "        doubled_sections += 1\n",
    "\n",
    "print(f\"Total number of unnecessary sections: {doubled_sections}\")"
   ]
  }
 ],
 "metadata": {
  "kernelspec": {
   "display_name": "Python 3.10.8 64-bit (microsoft store)",
   "language": "python",
   "name": "python3"
  },
  "language_info": {
   "codemirror_mode": {
    "name": "ipython",
    "version": 3
   },
   "file_extension": ".py",
   "mimetype": "text/x-python",
   "name": "python",
   "nbconvert_exporter": "python",
   "pygments_lexer": "ipython3",
   "version": "3.10.8"
  },
  "orig_nbformat": 4,
  "vscode": {
   "interpreter": {
    "hash": "951acce4ee2d6eb9fe3565b96e466293146d7f1585a7e067fb08e2ff6ef89eb0"
   }
  }
 },
 "nbformat": 4,
 "nbformat_minor": 2
}
